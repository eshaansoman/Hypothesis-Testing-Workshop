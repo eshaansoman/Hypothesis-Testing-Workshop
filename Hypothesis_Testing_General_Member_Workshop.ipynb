{
 "cells": [
  {
   "cell_type": "markdown",
   "metadata": {
    "colab_type": "text",
    "id": "5y-jKz6S7cLA"
   },
   "source": [
    "# Hypothesis Testing"
   ]
  },
  {
   "cell_type": "code",
   "execution_count": null,
   "metadata": {
    "colab": {},
    "colab_type": "code",
    "id": "x8J9q0k7qww3"
   },
   "outputs": [],
   "source": [
    "import pandas as pd\n",
    "import numpy as np\n",
    "import matplotlib as plt\n",
    "import seaborn as sns"
   ]
  },
  {
   "cell_type": "markdown",
   "metadata": {
    "colab_type": "text",
    "id": "9GBSUw3TXHPu"
   },
   "source": [
    "Our dataset comes from Kaggle and contains information about the student, including their identity, education level, and test scores. Let's load it in using pandas and display the first couple of rows. "
   ]
  },
  {
   "cell_type": "code",
   "execution_count": null,
   "metadata": {
    "colab": {
     "base_uri": "https://localhost:8080/",
     "height": 204
    },
    "colab_type": "code",
    "id": "R-As6LEwxeO3",
    "outputId": "a81bb6c1-ec61-448e-e7c2-8b7df6754f58"
   },
   "outputs": [],
   "source": [
    "scores = pd.read_csv(\"StudentsPerformance.csv\")\n",
    "scores.head(5)"
   ]
  },
  {
   "cell_type": "markdown",
   "metadata": {
    "colab_type": "text",
    "id": "fyxuo8jmXYqX"
   },
   "source": [
    "The 'test preparation course' column contains the unique values 'none' and 'completed', depending on whether or not the student has completed test preparation. "
   ]
  },
  {
   "cell_type": "code",
   "execution_count": null,
   "metadata": {
    "colab": {
     "base_uri": "https://localhost:8080/",
     "height": 119
    },
    "colab_type": "code",
    "id": "PBTNF9QOx7Dp",
    "outputId": "44159c9b-66b0-4664-8932-230439448276"
   },
   "outputs": [],
   "source": [
    "test_prep = scores['test preparation course']\n",
    "test_prep.head(5)"
   ]
  },
  {
   "cell_type": "markdown",
   "metadata": {
    "colab_type": "text",
    "id": "tnFX1aAYXvZ4"
   },
   "source": [
    "The 'writing score' column contains individual data on student writing  scores"
   ]
  },
  {
   "cell_type": "code",
   "execution_count": null,
   "metadata": {
    "colab": {
     "base_uri": "https://localhost:8080/",
     "height": 119
    },
    "colab_type": "code",
    "id": "yTM91Ebg1R1s",
    "outputId": "0b2c4438-727f-4cf7-c060-0587bd2538c3"
   },
   "outputs": [],
   "source": [
    "writing_scores = scores[\"writing score\"]\n",
    "writing_scores.head(5)"
   ]
  },
  {
   "cell_type": "markdown",
   "metadata": {
    "colab_type": "text",
    "id": "xRNvhP9OX5qM"
   },
   "source": [
    "Let's split up the test preparation course column into two series, one with those students who completed test prep and those who didn't"
   ]
  },
  {
   "cell_type": "code",
   "execution_count": null,
   "metadata": {
    "colab": {},
    "colab_type": "code",
    "id": "cEuf9H4U5t1E"
   },
   "outputs": [],
   "source": [
    "completed_scores = scores[scores['test preparation course'] == 'completed']['reading score']\n",
    "not_completed_scores = scores[scores['test preparation course'] == 'none']['reading score']"
   ]
  },
  {
   "cell_type": "markdown",
   "metadata": {
    "colab_type": "text",
    "id": "Og9mr70mYEy7"
   },
   "source": [
    "Let's visualize the reading scores between those who completed test prep versus those who didn't. Here are the two histograms:"
   ]
  },
  {
   "cell_type": "code",
   "execution_count": null,
   "metadata": {
    "colab": {
     "base_uri": "https://localhost:8080/",
     "height": 429
    },
    "colab_type": "code",
    "id": "2NOmbgeL2qVi",
    "outputId": "d9214bd4-abca-4e6b-e893-a19b28d66dcb"
   },
   "outputs": [],
   "source": [
    "ax = sns.distplot(completed_scores, color=\"skyblue\", label=\"Test Prep Completed\")\n",
    "ax = sns.distplot(not_completed_scores, color=\"green\", label=\"Test Prep Not Completed\")\n",
    "ax.legend()"
   ]
  },
  {
   "cell_type": "markdown",
   "metadata": {
    "colab_type": "text",
    "id": "qGkDth_3ed6E"
   },
   "source": [
    "**We would like to see whether whether test preparation was associated with reading scores. To set up our hypothesis test, we can represent the two views of the world using the following null and alternative hypotheses:**\n",
    "\n",
    "Null hypothesis: In the population, the distribution of reading scores for those who completed test prep is the same for those who didn't complete test prep. The difference in the sample is due to chance.\n",
    "\n",
    "Alternative hypothesis: In the population, the students who completed test preparation have higher reading scores, on average, than those who didn't complete test prep. The observed difference is \"real\". This is what would be considered a one-sided alternative hypothesis. (Two-sided would be something like \"the distributions are different, not necessarily greater or less than\")"
   ]
  },
  {
   "cell_type": "markdown",
   "metadata": {
    "colab_type": "text",
    "id": "C2WQZwT6YSlC"
   },
   "source": [
    "We want our test statistic to be the difference between the mean completed score and mean none score based on our original data. The value below is our \"observed value\" of the test statistic. Large positive values of this statistic will favor the alternative hypothesis. "
   ]
  },
  {
   "cell_type": "code",
   "execution_count": null,
   "metadata": {
    "colab": {
     "base_uri": "https://localhost:8080/",
     "height": 34
    },
    "colab_type": "code",
    "id": "7Xu8MGHS6Ss9",
    "outputId": "06cd1988-d032-4d56-da3a-bb7516438535"
   },
   "outputs": [],
   "source": [
    "observed_difference = np.mean(completed_scores) - np.mean(not_completed_scores)\n",
    "observed_difference "
   ]
  },
  {
   "cell_type": "markdown",
   "metadata": {
    "colab_type": "text",
    "id": "S9nJ-NYWhelR"
   },
   "source": [
    "If there were really no difference between the two distributions in the underlying population, then whether each test preparation was completed or not by the student shouldn't affect their reading score, therefore should make no difference to the average. \n",
    "\n",
    "To investigate this more, we will simulate the test statistic under the null hypothesis. Let's shuffle all the reading scores randomly among the students We conduct this random permutation below."
   ]
  },
  {
   "cell_type": "code",
   "execution_count": null,
   "metadata": {
    "colab": {},
    "colab_type": "code",
    "id": "Hmk2QxV83Wb0"
   },
   "outputs": [],
   "source": [
    "def shuffle(series):\n",
    "    '''\n",
    "    Shuffles a series and resets index to preserve shuffle when adding series\n",
    "    back to DataFrame.\n",
    "    '''\n",
    "    return series.sample(frac=1, replace=False).reset_index(drop=True)"
   ]
  },
  {
   "cell_type": "code",
   "execution_count": null,
   "metadata": {
    "colab": {
     "base_uri": "https://localhost:8080/",
     "height": 221
    },
    "colab_type": "code",
    "id": "3ThfAR2q3aGP",
    "outputId": "ba36da52-048d-4db1-96d1-232848ff67c3"
   },
   "outputs": [],
   "source": [
    "scores[\"Shuffled\"] = shuffle(scores[\"reading score\"])\n",
    "scores.head()"
   ]
  },
  {
   "cell_type": "markdown",
   "metadata": {
    "colab_type": "text",
    "id": "Y0RmecKQh4C-"
   },
   "source": [
    "In the cell below, we will simulate our test statistic many times and collect the differences in an array."
   ]
  },
  {
   "cell_type": "code",
   "execution_count": null,
   "metadata": {
    "colab": {},
    "colab_type": "code",
    "id": "cJ5isQmb4IKM"
   },
   "outputs": [],
   "source": [
    "#Permutation Test\n",
    "differences = np.array([])\n",
    "\n",
    "repetitions = 5000\n",
    "for i in np.arange(repetitions):\n",
    "    scores[\"Shuffled\"] = shuffle(scores[\"reading score\"])\n",
    "  \n",
    "    # Find the difference between the means of two randomly assigned groups\n",
    "    none = scores[scores['test preparation course'] == 'none']['Shuffled']\n",
    "    completed = scores[scores['test preparation course'] == 'completed']['Shuffled']\n",
    "    simulated_difference = np.mean(completed) - np.mean(none)\n",
    "\n",
    "    differences = np.append(differences, simulated_difference)"
   ]
  },
  {
   "cell_type": "markdown",
   "metadata": {
    "colab_type": "text",
    "id": "0Gi1wO7Lh9VH"
   },
   "source": [
    "Here's a histogram of the simulated difference in means below. We see that majority of the values seem to favor 0:"
   ]
  },
  {
   "cell_type": "code",
   "execution_count": null,
   "metadata": {
    "colab": {
     "base_uri": "https://localhost:8080/",
     "height": 415
    },
    "colab_type": "code",
    "id": "Zo53TTR68Z38",
    "outputId": "75c35259-c57a-4f96-c2fe-fa29f3fa1755"
   },
   "outputs": [],
   "source": [
    "sns.distplot(differences)"
   ]
  },
  {
   "cell_type": "markdown",
   "metadata": {
    "colab_type": "text",
    "id": "15lHngemiKOr"
   },
   "source": [
    "Let us now calculate the p-value in order to make a conclusion for this hypothesis test. The p-value in this case would be the proportion of values under the sampling distribution of simulated differences above that are larger or equal to the observed difference. "
   ]
  },
  {
   "cell_type": "code",
   "execution_count": null,
   "metadata": {
    "colab": {
     "base_uri": "https://localhost:8080/",
     "height": 34
    },
    "colab_type": "code",
    "id": "3DZ7PoaU8s3p",
    "outputId": "c3f890c5-bec3-4a72-b3ad-5d78716c5f0c"
   },
   "outputs": [],
   "source": [
    "p_value = np.count_nonzero(differences >= observed_difference) / repetitions\n",
    "p_value"
   ]
  },
  {
   "cell_type": "markdown",
   "metadata": {
    "colab_type": "text",
    "id": "MYlq5IpCnH4e"
   },
   "source": [
    "Due to our p-value being less than the threshold of 0.05, we reject the null hypothesis. "
   ]
  },
  {
   "cell_type": "markdown",
   "metadata": {
    "colab_type": "text",
    "id": "qWIiwK-enReo"
   },
   "source": [
    "We now should compute a confidence interval in order to provide an interval of estimates for our population parameter. We want to estimate the differences of means of the reading scores for those who did and didn't do test preparation."
   ]
  },
  {
   "cell_type": "markdown",
   "metadata": {
    "colab_type": "text",
    "id": "tHdYGa-en6oG"
   },
   "source": [
    "We may use the bootstrap sampling distribution to create a confidence interval which we use to estimate the value of the population parameter. We treat our original data as the bootstrap population to perform the bootstrap procedure:\n",
    "\n",
    "1) Draw a sample with replacement from the test prep students and calculate the mean reading score for these students. We also draw a sample with replacement from the non-test prep students and calculate the mean reading score.\n",
    "\n",
    "2) Calculate the difference in means.\n",
    "\n",
    "3) Repeat the above process 10000 times, obtaining 10000 mean differences.\n",
    "\n",
    "This procedure gives us a empirical sampling distribution of differences in mean reading scores."
   ]
  },
  {
   "cell_type": "code",
   "execution_count": null,
   "metadata": {
    "colab": {},
    "colab_type": "code",
    "id": "iDpIDGCz9dfD"
   },
   "outputs": [],
   "source": [
    "def resample(sample):\n",
    "    return np.random.choice(sample, size=len(sample))\n",
    "\n",
    "def bootstrap(sample, stat, replicates):\n",
    "    return np.array([\n",
    "        stat(resample(sample)) for _ in range(replicates)\n",
    "    ])"
   ]
  },
  {
   "cell_type": "code",
   "execution_count": null,
   "metadata": {
    "colab": {},
    "colab_type": "code",
    "id": "rhXnizGK9zJ6"
   },
   "outputs": [],
   "source": [
    "completed_scores = scores[scores['test preparation course'] == 'completed']['reading score']\n",
    "not_completed_scores = scores[scores['test preparation course'] == 'none']['reading score']\n",
    "\n",
    "completed_means = bootstrap(completed_scores, np.mean, 10000)\n",
    "non_completed_means = bootstrap(not_completed_scores, np.mean, 10000)\n",
    "\n",
    "bootstrap_differences = completed_means - non_completed_means\n",
    "\n"
   ]
  },
  {
   "cell_type": "markdown",
   "metadata": {
    "colab_type": "text",
    "id": "vRxIdRRKobKP"
   },
   "source": [
    "Here's a histogram of the empirical distribution of the difference in means:"
   ]
  },
  {
   "cell_type": "code",
   "execution_count": null,
   "metadata": {
    "colab": {
     "base_uri": "https://localhost:8080/",
     "height": 415
    },
    "colab_type": "code",
    "id": "uluvKNqx-IYz",
    "outputId": "ef2bce91-b37c-4af6-8fc4-6a57792e006f"
   },
   "outputs": [],
   "source": [
    "sns.distplot(bootstrap_differences)"
   ]
  },
  {
   "cell_type": "code",
   "execution_count": null,
   "metadata": {
    "colab": {
     "base_uri": "https://localhost:8080/",
     "height": 34
    },
    "colab_type": "code",
    "id": "P2-qke33-iyS",
    "outputId": "f21c8a33-c6dc-4ca6-8af4-721a8d1019da"
   },
   "outputs": [],
   "source": [
    "# Construct 95% confidence interval from bootstrapping\n",
    "(np.percentile(bootstrap_differences, 2.5), \n",
    " np.percentile(bootstrap_differences, 97.5))"
   ]
  },
  {
   "cell_type": "markdown",
   "metadata": {
    "colab_type": "text",
    "id": "s1lyEWMgorDr"
   },
   "source": [
    "This confidence interval allows us to state with 95% confidence that the population mean difference in reading scores is between 5.54 and 9.11."
   ]
  }
 ],
 "metadata": {
  "colab": {
   "collapsed_sections": [],
   "name": "Hypothesis Testing General Member Workshop",
   "provenance": [],
   "version": "0.3.2"
  },
  "kernelspec": {
   "display_name": "Python 3",
   "language": "python",
   "name": "python3"
  },
  "language_info": {
   "codemirror_mode": {
    "name": "ipython",
    "version": 3
   },
   "file_extension": ".py",
   "mimetype": "text/x-python",
   "name": "python",
   "nbconvert_exporter": "python",
   "pygments_lexer": "ipython3",
   "version": "3.7.1"
  }
 },
 "nbformat": 4,
 "nbformat_minor": 1
}
